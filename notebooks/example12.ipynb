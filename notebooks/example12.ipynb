{
 "cells": [
  {
   "cell_type": "markdown",
   "metadata": {},
   "source": [
    "# High Order Taylor Maps I\n",
    "(by Dario Izzo)\n",
    "\n",
    "In this notebook we consider the system of differential equations $\\dot{\\mathbf y} = \\mathbf f(\\mathbf y)$:\n",
    "\n",
    "$$\n",
    "\\begin{array}{l}\n",
    "\\dot r = v_r \\\\\n",
    "\\dot v_r = - \\frac 1{r^2} + r v_\\theta^2\\\\\n",
    "\\dot \\theta = v_\\theta \\\\\n",
    "\\dot v_\\theta = -2 \\frac{v_\\theta v_r}{r}\n",
    "\\end{array}\n",
    "$$\n",
    "\n",
    "which describe, in non dimensional units, the Keplerian motion of a mass point object around some primary body. \n",
    "We show how we can build a high order Taylor map (HOTM, indicated with $\\mathcal M$) representing the final state of the system at the time $T$ as a function of the initial conditions. \n",
    "\n",
    "In other words, we build a polinomial representation of the relation $\\mathbf y(T) = \\mathbf f(\\mathbf y(0), T)$. Writing the initial conditions as $\\mathbf y(0) = \\overline {\\mathbf y}(0) + \\mathbf {dy}$, our HOTM will be written as:\n",
    "\n",
    "$$\n",
    "\\mathbf y(T) = \\mathcal M(\\mathbf {dy})\n",
    "$$\n",
    "\n",
    "and will be valid in a neighbourhood of $\\overline {\\mathbf y}(0)$."
   ]
  },
  {
   "cell_type": "code",
   "execution_count": 1,
   "metadata": {},
   "outputs": [],
   "source": [
    "# We use numpy for arrays and pyaudi for the differential algebra machinery\n",
    "import numpy as np\n",
    "import matplotlib.pyplot as plt\n",
    "%matplotlib inline \n",
    "from pyaudi import gdual_double as gdual\n",
    "from pyaudi import sin, cos"
   ]
  },
  {
   "cell_type": "code",
   "execution_count": 2,
   "metadata": {},
   "outputs": [],
   "source": [
    "# This is a simple Runga Kutta fourth order numerical integrator with fixed step.\n",
    "# It is programmed to work both with floats and gduals. It infers the type from the initial conditions\n",
    "def rk4(f, t0, y0, h, N):\n",
    "    t = t0 + np.arange(N+1)*h\n",
    "    y = np.array([[type(y0[0])] * np.size(y0)] * (N+1))\n",
    "    y[0] = y0\n",
    "    for n in range(N):\n",
    "        xi1 = y[n]\n",
    "        f1 = f(t[n], xi1)\n",
    "        xi2 = y[n] + (h/2.)*f1\n",
    "        f2 = f(t[n+1], xi2)\n",
    "        xi3 = y[n] + (h/2.)*f2\n",
    "        f3 = f(t[n+1], xi3)\n",
    "        xi4 = y[n] + h*f3\n",
    "        f4 = f(t[n+1], xi4)\n",
    "        y[n+1] = y[n] + (h/6.)*(f1 + 2*f2 + 2*f3 + f4)\n",
    "    return y"
   ]
  },
  {
   "cell_type": "code",
   "execution_count": 3,
   "metadata": {},
   "outputs": [],
   "source": [
    "# The Equations of Motion of Keplerian motion in non dimensional spherical coordinates.\n",
    "def eom_kep_polar(t,y):\n",
    "    return np.array([y[1], - 1 / y[0] / y[0] + y[0] * y[3]*y[3], y[3], -2*y[3]*y[1]/y[0]])"
   ]
  },
  {
   "cell_type": "markdown",
   "metadata": {},
   "source": [
    "### We perform the numerical integration using floats (the standard way)"
   ]
  },
  {
   "cell_type": "code",
   "execution_count": 4,
   "metadata": {},
   "outputs": [],
   "source": [
    "# Fixed step size\n",
    "step = 0.01\n",
    "# Number of steps\n",
    "n_steps = 500\n",
    "# The initial conditions\n",
    "ic = [1.,0.1,0.,1.]\n",
    "# The intitial time (irrelevant as the system is autonomous)\n",
    "it = 0.\n",
    "y = rk4(eom_kep_polar, it, ic, step, n_steps)"
   ]
  },
  {
   "cell_type": "code",
   "execution_count": 5,
   "metadata": {},
   "outputs": [
    {
     "data": {
      "text/plain": [
       "Text(0,0.5,'y')"
      ]
     },
     "execution_count": 5,
     "metadata": {},
     "output_type": "execute_result"
    },
    {
     "data": {
      "image/png": "[encoded data removed]",
      "text/plain": [
       "<matplotlib.figure.Figure at 0x7fd84fa2e278>"
      ]
     },
     "metadata": {},
     "output_type": "display_data"
    }
   ],
   "source": [
    "# Here we transform from polar to cartesian coordinates \n",
    "# to then plot\n",
    "cx = [it[0]*np.sin(it[2]) for it in y]\n",
    "cy = [it[0]*np.cos(it[2]) for it in y]\n",
    "plt.plot(cx,cy)\n",
    "plt.title(\"Orbit resulting from the chosen initial conditions\")\n",
    "plt.xlabel(\"x\")\n",
    "plt.ylabel(\"y\")"
   ]
  },
  {
   "cell_type": "markdown",
   "metadata": {},
   "source": [
    "### We perform the numerical integration using gduals (to get a HOTM)"
   ]
  },
  {
   "cell_type": "code",
   "execution_count": 6,
   "metadata": {},
   "outputs": [],
   "source": [
    "# Order of the Taylor Map. If we have 4 variables the number of terms in the Taylor expansion in 329  at order 7 \n",
    "order = 5\n",
    "# We now define the initial conditions as gdual (not float)\n",
    "ic_g = [gdual(ic[0], \"r\", order), gdual(ic[1], \"vr\", order), gdual(ic[2], \"t\", order), gdual(ic[3], \"vt\", order)]"
   ]
  },
  {
   "cell_type": "code",
   "execution_count": 7,
   "metadata": {},
   "outputs": [
    {
     "name": "stdout",
     "output_type": "stream",
     "text": [
      "--- 1.7251091003417969 seconds ---\n"
     ]
    }
   ],
   "source": [
    "import time\n",
    "start_time = time.time()\n",
    "# We call the numerical integrator, this time it will compute on gduals\n",
    "y = rk4(eom_kep_polar, it, ic_g, step, n_steps)\n",
    "print(\"--- %s seconds ---\" % (time.time() - start_time))\n"
   ]
  },
  {
   "cell_type": "code",
   "execution_count": 8,
   "metadata": {},
   "outputs": [
    {
     "name": "stdout",
     "output_type": "stream",
     "text": [
      "\\[ 456.247{dvt}^{3}-0.00244413{dt}^{3}+32.5178{dr}{dt}^{3}{dvt}+9.72205{dr}{dt}^{3}{dvr}-98350.9{dr}^{2}{dvr}^{3}+95097.4{dr}^{3}{dt}{dvt}+3.44559{dt}^{3}{dvt}-14318.7{dvt}^{4}+680.557{dr}{dvt}+3059.27{dr}{dt}{dvr}{dvt}-501710{dr}{dvt}^{4}-2.01229{dvt}-4.00992{dr}-58.3323{dr}{dt}{dvr}+2119.32{dr}^{2}{dvr}-1040.11{dvr}^{2}{dvt}^{2}-93373.3{dr}^{2}{dvr}{dvt}-61205.4{dr}^{3}{dvr}-185943{dr}^{4}+1.00615{dt}^{2}{dvt}+\\ldots+\\mathcal{O}\\left(6\\right) \\]\n",
      "xf (latex):\n"
     ]
    },
    {
     "data": {
      "text/latex": [
       "\\[ 456.247{dvt}^{3}-0.00244413{dt}^{3}+32.5178{dr}{dt}^{3}{dvt}+9.72205{dr}{dt}^{3}{dvr}-98350.9{dr}^{2}{dvr}^{3}+95097.4{dr}^{3}{dt}{dvt}+3.44559{dt}^{3}{dvt}-14318.7{dvt}^{4}+680.557{dr}{dvt}+3059.27{dr}{dt}{dvr}{dvt}-501710{dr}{dvt}^{4}-2.01229{dvt}-4.00992{dr}-58.3323{dr}{dt}{dvr}+2119.32{dr}^{2}{dvr}-1040.11{dvr}^{2}{dvt}^{2}-93373.3{dr}^{2}{dvr}{dvt}-61205.4{dr}^{3}{dvr}-185943{dr}^{4}+1.00615{dt}^{2}{dvt}+\\ldots+\\mathcal{O}\\left(6\\right) \\]"
      ],
      "text/plain": [
       "456.247*dvt**3-0.00244413*dt**3+32.5178*dr*dt**3*dvt+9.72205*dr*dt**3*dvr-98350.9*dr**2*dvr**3+95097.4*dr**3*dt*dvt+3.44559*dt**3*dvt-14318.7*dvt**4+680.557*dr*dvt+3059.27*dr*dt*dvr*dvt-501710*dr*dvt**4-2.01229*dvt-4.00992*dr-58.3323*dr*dt*dvr+2119.32*dr**2*dvr-1040.11*dvr**2*dvt**2-93373.3*dr**2*dvr*dvt-61205.4*dr**3*dvr-185943*dr**4+1.00615*dt**2*dvt+..."
      ]
     },
     "execution_count": 8,
     "metadata": {},
     "output_type": "execute_result"
    }
   ],
   "source": [
    "# We extract the last point\n",
    "yf = y[-1]\n",
    "# And unpack it into some convinient names\n",
    "rf,vrf,tf,vtf = yf\n",
    "# We compute the final cartesian components\n",
    "xf = rf * sin(tf)\n",
    "yf = rf * cos(tf)\n",
    "# Note that you can get the latex representation of the gdual\n",
    "print(xf._repr_latex_())\n",
    "print(\"xf (latex):\")\n",
    "xf"
   ]
  },
  {
   "cell_type": "code",
   "execution_count": 9,
   "metadata": {},
   "outputs": [
    {
     "name": "stdout",
     "output_type": "stream",
     "text": [
      "Final x from the gdual integration -0.9089833754123715\n",
      "Final y from the gdual integration 0.014664786455128188\n",
      "\n",
      "Final x from the float integration -0.9089833754123692\n",
      "Final y from the float integration 0.014664786455132996\n"
     ]
    }
   ],
   "source": [
    "# We can extract the value of the polinomial when $\\mathbf {dy} = 0$\n",
    "print(\"Final x from the gdual integration\", xf.constant_cf)\n",
    "print(\"Final y from the gdual integration\", yf.constant_cf)\n",
    "# And check its indeed the result of the 'reference' trajectory (the lineariation point)\n",
    "print(\"\\nFinal x from the float integration\", cx[-1])\n",
    "print(\"Final y from the float integration\", cy[-1])"
   ]
  },
  {
   "cell_type": "markdown",
   "metadata": {},
   "source": [
    "### We visualize the HOTM"
   ]
  },
  {
   "cell_type": "code",
   "execution_count": 10,
   "metadata": {},
   "outputs": [
    {
     "name": "stdout",
     "output_type": "stream",
     "text": [
      "--- 0.34252142906188965 seconds ---\n"
     ]
    }
   ],
   "source": [
    "# Let us now visualize the Taylor map by creating a grid of perturbations on the initial conditions and\n",
    "# evaluating the map for those values\n",
    "Npoints = 10 # 10000 points\n",
    "epsilon = 1e-3\n",
    "grid = np.arange(-epsilon,epsilon,2*epsilon/Npoints)\n",
    "nxf = [0] * len(grid)**4\n",
    "nyf = [0] * len(grid)**4\n",
    "i=0\n",
    "import time\n",
    "start_time = time.time()\n",
    "for dr in grid:\n",
    "    for dt in grid:\n",
    "        for dvr in grid:\n",
    "            for dvt in grid:\n",
    "                nxf[i] = xf.evaluate({\"dr\":dr, \"dt\":dt, \"dvr\":dvr,\"dvt\":dvt})\n",
    "                nyf[i] = yf.evaluate({\"dr\":dr, \"dt\":dt, \"dvr\":dvr,\"dvt\":dvt})\n",
    "                i = i+1\n",
    "print(\"--- %s seconds ---\" % (time.time() - start_time))"
   ]
  },
  {
   "cell_type": "code",
   "execution_count": 11,
   "metadata": {},
   "outputs": [
    {
     "data": {
      "text/plain": [
       "Text(0.5,1,'Stretch')"
      ]
     },
     "execution_count": 11,
     "metadata": {},
     "output_type": "execute_result"
    },
    {
     "data": {
      "image/png": "[encoded data removed]",
      "text/plain": [
       "<matplotlib.figure.Figure at 0x7fd84cc487b8>"
      ]
     },
     "metadata": {},
     "output_type": "display_data"
    }
   ],
   "source": [
    "f, axarr = plt.subplots(1,3,figsize=(15,5))\n",
    "# Normal plot of the final map\n",
    "axarr[0].plot(nxf,nyf,'.')\n",
    "axarr[0].plot(cx,cy)\n",
    "axarr[0].set_title(\"The map\")\n",
    "\n",
    "# Zoomed plot of the final map (equal axis)\n",
    "axarr[1].plot(nxf,nyf,'.')\n",
    "axarr[1].plot(cx,cy)\n",
    "axarr[1].set_xlim([cx[-1] - 0.1, cx[-1] + 0.1])\n",
    "axarr[1].set_ylim([cy[-1] - 0.1, cy[-1] + 0.1])\n",
    "axarr[1].set_title(\"Zoom\")\n",
    "\n",
    "# Zoomed plot of the final map (unequal axis)\n",
    "axarr[2].plot(nxf,nyf,'.')\n",
    "axarr[2].plot(cx,cy)\n",
    "axarr[2].set_xlim([cx[-1] - 0.01, cx[-1] + 0.01])\n",
    "axarr[2].set_ylim([cy[-1] - 0.1, cy[-1] + 0.1])\n",
    "axarr[2].set_title(\"Stretch\")\n",
    "#axarr[1].set_xlim([cx[-1] - 0.1, cx[-1] + 0.1])\n",
    "#axarr[1].set_ylim([cy[-1] - 0.1, cy[-1] + 0.1])\n"
   ]
  },
  {
   "cell_type": "markdown",
   "metadata": {},
   "source": [
    "### How much faster is now to evaluate the Map rather than perform a new numerical integration?\n"
   ]
  },
  {
   "cell_type": "code",
   "execution_count": 12,
   "metadata": {},
   "outputs": [],
   "source": [
    "# First we profile the method evaluate (note that you need to call the method 4 times to get the full state)"
   ]
  },
  {
   "cell_type": "code",
   "execution_count": 13,
   "metadata": {},
   "outputs": [
    {
     "name": "stdout",
     "output_type": "stream",
     "text": [
      "11.8 µs ± 469 ns per loop (mean ± std. dev. of 7 runs, 100000 loops each)\n"
     ]
    }
   ],
   "source": [
    "timeit xf.evaluate({\"dr\":epsilon, \"dt\":epsilon, \"dvr\":epsilon,\"dvt\":epsilon})"
   ]
  },
  {
   "cell_type": "code",
   "execution_count": 14,
   "metadata": {},
   "outputs": [],
   "source": [
    "# Then we profile the Runge-Kutta 4 integrator"
   ]
  },
  {
   "cell_type": "code",
   "execution_count": 15,
   "metadata": {},
   "outputs": [
    {
     "name": "stdout",
     "output_type": "stream",
     "text": [
      "15.7 ms ± 1.97 ms per loop (mean ± std. dev. of 7 runs, 100 loops each)\n"
     ]
    }
   ],
   "source": [
    "timeit rk4(eom_kep_polar, 0, [it + epsilon for it in ic], step, n_steps)"
   ]
  },
  {
   "cell_type": "code",
   "execution_count": 16,
   "metadata": {},
   "outputs": [
    {
     "data": {
      "text/plain": [
       "Text(0,0.5,'Error in estimating the final state (x)')"
      ]
     },
     "execution_count": 16,
     "metadata": {},
     "output_type": "execute_result"
    },
    {
     "data": {
      "image/png": "[encoded data removed]",
      "text/plain": [
       "<matplotlib.figure.Figure at 0x7fd84cc5fe80>"
      ]
     },
     "metadata": {},
     "output_type": "display_data"
    }
   ],
   "source": [
    "# It seems the speedup is 2-3 orders of magnitude, but did we loose precision?\n",
    "# We plot the error in the final result as computed by the HOTM and by the Runge-Kutta\n",
    "# as a function of the distance from the original initial conditions\n",
    "out = []\n",
    "pert = np.arange(0,0.1,1e-3)\n",
    "for epsilon in pert:\n",
    "    res_map_xf = xf.evaluate({\"dr\":epsilon, \"dt\":epsilon, \"dvr\":epsilon,\"dvt\":epsilon})\n",
    "    res_int = rk4(eom_kep_polar, 0, [it + epsilon for it in ic], step, n_steps)\n",
    "    res_int_x = [it[0]*np.sin(it[2]) for it in res_int]\n",
    "    res_int_xf = res_int_x[-1]\n",
    "    out.append(np.abs(res_map_xf - res_int_xf))\n",
    "plt.semilogy(pert,out)\n",
    "plt.title(\"Error introduced by the use of the polynomial\")\n",
    "plt.xlabel(\"Perturbation of the initial conditions\")\n",
    "plt.ylabel(\"Error in estimating the final state (x)\")"
   ]
  }
 ],
 "metadata": {
  "kernelspec": {
   "display_name": "Python 3",
   "language": "python",
   "name": "python3"
  },
  "language_info": {
   "codemirror_mode": {
    "name": "ipython",
    "version": 3
   },
   "file_extension": ".py",
   "mimetype": "text/x-python",
   "name": "python",
   "nbconvert_exporter": "python",
   "pygments_lexer": "ipython3",
   "version": "3.6.4"
  }
 },
 "nbformat": 4,
 "nbformat_minor": 2
}
