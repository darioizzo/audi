{
 "cells": [
  {
   "cell_type": "markdown",
   "metadata": {},
   "source": [
    "# The very basics\n",
    "(by Francesco Biscani and Dario Izzo)\n",
    "\n",
    "The  generalized dual number (gdual) is the main class of pyaudi. You should regard it as a new type that can be used instead of float. It represents a function rather than \"just\" a value. The difference is that it contains all derivatives of the function at a value. Arithmetic operators +,-,*,/ and \\** work on a gdual. Mathematical functions like sin, cos etc., also work on a gdual, but you must use the ones in the pyaudi module."
   ]
  },
  {
   "cell_type": "markdown",
   "metadata": {},
   "source": [
    "## Importing stuff\n"
   ]
  },
  {
   "cell_type": "code",
   "execution_count": 1,
   "metadata": {},
   "outputs": [],
   "source": [
    "from pyaudi import gdual_double as gdual\n",
    "from pyaudi import sin, cos, tan"
   ]
  },
  {
   "cell_type": "markdown",
   "metadata": {},
   "source": [
    "## Define some variables (gduals)\n",
    "We define three variables named \"x\", \"y\" and \"z\" and assign to them the value 0. We also set the maximum derivative order to 3. The three variables are generalized dual numbers and thus any computation on them will result in a gdual (essentially the Taylor expansion around the values x=0, y=0, z=0 of the performed computation)"
   ]
  },
  {
   "cell_type": "code",
   "execution_count": 2,
   "metadata": {},
   "outputs": [],
   "source": [
    "x,y,z = [gdual(0.,_,3) for _ in \"xyz\"]"
   ]
  },
  {
   "cell_type": "markdown",
   "metadata": {},
   "source": [
    "## Create a function of these variables\n",
    "Standard arithmetics can be performed on the gduals using the functions imported and the operators +,-,*,/, **"
   ]
  },
  {
   "cell_type": "code",
   "execution_count": 3,
   "metadata": {},
   "outputs": [
    {
     "name": "stdout",
     "output_type": "stream",
     "text": [
      "2*dx+2*dx*dy**2+dx**2+0.666667*dx**3-dz+0.166667*dz**3-2*dx*dy\n"
     ]
    },
    {
     "data": {
      "text/latex": [
       "\\[ 2{dx}+2{dx}{dy}^{2}+{dx}^{2}+0.666667{dx}^{3}-{dz}+0.166667{dz}^{3}-2{dx}{dy}+\\mathcal{O}\\left(4\\right) \\]"
      ],
      "text/plain": [
       "2*dx+2*dx*dy**2+dx**2+0.666667*dx**3-dz+0.166667*dz**3-2*dx*dy"
      ]
     },
     "execution_count": 3,
     "metadata": {},
     "output_type": "execute_result"
    }
   ],
   "source": [
    "f = x*x+2*tan(x/(y+1))-sin(z)\n",
    "print(f) # This prints the python representation of the Taylor expansion of f (all derivatives up to three are there represented discounted by the factorial factor)\n",
    "f # This, in a notebook, prints the expression in LaTex format"
   ]
  },
  {
   "cell_type": "markdown",
   "metadata": {},
   "source": [
    "## Extracting the derivatives\n",
    "We can now extract the values of the derivatives of $f\\left(x,y,z\\right)$ with respect to $x,y,z$ in the point $\\left(0,0,0\\right)$. For instance, this is the value of $\\frac{\\partial f}{\\partial z}$:"
   ]
  },
  {
   "cell_type": "code",
   "execution_count": 4,
   "metadata": {},
   "outputs": [
    {
     "data": {
      "text/plain": [
       "-1.0"
      ]
     },
     "execution_count": 4,
     "metadata": {},
     "output_type": "execute_result"
    }
   ],
   "source": [
    "f.get_derivative([0,0,1])"
   ]
  },
  {
   "cell_type": "markdown",
   "metadata": {},
   "source": [
    "or, using the dictionary interface"
   ]
  },
  {
   "cell_type": "code",
   "execution_count": 5,
   "metadata": {},
   "outputs": [
    {
     "data": {
      "text/plain": [
       "-1.0"
      ]
     },
     "execution_count": 5,
     "metadata": {},
     "output_type": "execute_result"
    }
   ],
   "source": [
    "f.get_derivative({\"dz\": 1})"
   ]
  },
  {
   "cell_type": "markdown",
   "metadata": {},
   "source": [
    "This is $\\frac{\\partial^2 f}{\\partial x \\partial y}$:"
   ]
  },
  {
   "cell_type": "code",
   "execution_count": 6,
   "metadata": {},
   "outputs": [
    {
     "data": {
      "text/plain": [
       "-2.0"
      ]
     },
     "execution_count": 6,
     "metadata": {},
     "output_type": "execute_result"
    }
   ],
   "source": [
    "f.get_derivative({\"dx\":1, \"dy\":1})"
   ]
  },
  {
   "cell_type": "markdown",
   "metadata": {},
   "source": [
    "## Changing the point\n",
    "By re-defining $x,y,z$, we can compute the derivatives in a different point. For instance, for the computation of the derivatives in the point $\\left(1,2,3\\right)$, we write:"
   ]
  },
  {
   "cell_type": "code",
   "execution_count": 7,
   "metadata": {},
   "outputs": [
    {
     "data": {
      "text/latex": [
       "\\[ 0.0925294{dy}^{2}+0.07056{dz}^{2}+2.74659{dx}+0.0375972{dx}^{3}-0.248865{dy}-0.164999{dz}^{3}-0.0950441{dx}^{2}{dy}+1.55139+0.133785{dx}{dy}^{2}+1.08617{dx}^{2}-0.0354271{dy}^{3}+0.989992{dz}-0.306312{dx}{dy}+\\mathcal{O}\\left(4\\right) \\]"
      ],
      "text/plain": [
       "0.0925294*dy**2+0.07056*dz**2+2.74659*dx+0.0375972*dx**3-0.248865*dy-0.164999*dz**3-0.0950441*dx**2*dy+1.55139+0.133785*dx*dy**2+1.08617*dx**2-0.0354271*dy**3+0.989992*dz-0.306312*dx*dy"
      ]
     },
     "execution_count": 7,
     "metadata": {},
     "output_type": "execute_result"
    }
   ],
   "source": [
    "x = gdual(1.,\"x\",3)\n",
    "y = gdual(2.,\"y\",3)\n",
    "z = gdual(3.,\"z\",3)\n",
    "f = x*x+2*tan(x/(y+1))-sin(z)\n",
    "f"
   ]
  },
  {
   "cell_type": "markdown",
   "metadata": {},
   "source": [
    "Now $\\frac{\\partial f}{\\partial z}$:"
   ]
  },
  {
   "cell_type": "code",
   "execution_count": 8,
   "metadata": {},
   "outputs": [
    {
     "data": {
      "text/plain": [
       "0.9899924966004454"
      ]
     },
     "execution_count": 8,
     "metadata": {},
     "output_type": "execute_result"
    }
   ],
   "source": [
    "f.get_derivative([0,0,1])"
   ]
  },
  {
   "cell_type": "markdown",
   "metadata": {},
   "source": [
    "We can verifiy the correctness by manually computing the derivative:"
   ]
  },
  {
   "cell_type": "code",
   "execution_count": 9,
   "metadata": {},
   "outputs": [
    {
     "data": {
      "text/plain": [
       "0.9899924966004454"
      ]
     },
     "execution_count": 9,
     "metadata": {},
     "output_type": "execute_result"
    }
   ],
   "source": [
    "-cos(3.)"
   ]
  },
  {
   "cell_type": "markdown",
   "metadata": {
    "collapsed": true
   },
   "source": [
    "## Encapsulating f in a function call\n",
    "We may write all of the above in a more elegant fashion by just defining f as a function and then calling it with gduals, rather than floats"
   ]
  },
  {
   "cell_type": "code",
   "execution_count": 10,
   "metadata": {},
   "outputs": [],
   "source": [
    "def f(x,y,z):\n",
    "    return x*x+2*tan(x/(y+1))-sin(z)"
   ]
  },
  {
   "cell_type": "code",
   "execution_count": 11,
   "metadata": {},
   "outputs": [
    {
     "name": "stdout",
     "output_type": "stream",
     "text": [
      "0.0925294*dy**2+0.07056*dz**2+2.74659*dx+0.0375972*dx**3-0.248865*dy-0.164999*dz**3-0.0950441*dx**2*dy+1.55139+0.133785*dx*dy**2+1.08617*dx**2-0.0354271*dy**3+0.989992*dz-0.306312*dx*dy\n"
     ]
    },
    {
     "data": {
      "text/plain": [
       "1.5513870909612837"
      ]
     },
     "execution_count": 11,
     "metadata": {},
     "output_type": "execute_result"
    }
   ],
   "source": [
    "x = gdual(1.,\"x\",3)\n",
    "y = gdual(2.,\"y\",3)\n",
    "z = gdual(3.,\"z\",3)\n",
    "print(f(x,y,z)) #Call with gduals\n",
    "f(1.,2.,3.)     #Call with floats"
   ]
  }
 ],
 "metadata": {
  "kernelspec": {
   "display_name": "Python 3",
   "language": "python",
   "name": "python3"
  },
  "language_info": {
   "codemirror_mode": {
    "name": "ipython",
    "version": 3
   },
   "file_extension": ".py",
   "mimetype": "text/x-python",
   "name": "python",
   "nbconvert_exporter": "python",
   "pygments_lexer": "ipython3",
   "version": "3.6.4"
  }
 },
 "nbformat": 4,
 "nbformat_minor": 1
}
